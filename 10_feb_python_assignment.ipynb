{
  "nbformat": 4,
  "nbformat_minor": 0,
  "metadata": {
    "colab": {
      "provenance": []
    },
    "kernelspec": {
      "name": "python3",
      "display_name": "Python 3"
    },
    "language_info": {
      "name": "python"
    }
  },
  "cells": [
    {
      "cell_type": "markdown",
      "source": [
        "###Q1. Which function is used to open a file? \n",
        "\n",
        "\n",
        "\n",
        "*   In Python,  open() function is used to open a file. It takes two arguments: the file name or path, and the mode in which to open the file.\n",
        "\n",
        "###What are the different modes of opening a file? Explain each mode of file opening.\n",
        "\n",
        "*   \"r\": Read mode, which opens the file for reading (default mode). \n",
        "\n",
        "* \"w\": Write mode, which opens the file for writing. If the file does not exist, it will be created. If it already exists, the contents of the file will be truncated (i.e., all previous contents will be deleted). In this mode, you can write data to the file.\n",
        "\n",
        "* \"a\": Append mode, which opens the file for writing, but instead of truncating the file, it appends the new data to the end of the file. If the file does not exist,  it will be created. In this mode, you can write data to the end of the file.\n",
        "\n",
        "* \"t\": Text mode, which opens the file in text mode (default mode). In this mode, the file is read or written as text.\n",
        "\n",
        "* \"x\": Exclusive creation mode, which opens the file for writing, but only if the file does not already exist. If the file exists, an error will be raised.\n",
        "\n",
        "* \"b\": Binary mode, which opens the file in binary mode. This is useful when working with non-text files, such as images or audio files. In this mode, the file is read or written as bytes.\n",
        "\n"
      ],
      "metadata": {
        "id": "gJFdJLMGd8qQ"
      }
    },
    {
      "cell_type": "code",
      "execution_count": 3,
      "metadata": {
        "id": "TFsx-0sqdNDH"
      },
      "outputs": [],
      "source": [
        "#example using \"w\"\n",
        "\n",
        "with open(\"textfile1.txt\", \"w\") as file:\n",
        "    file.write(\"Hello, world!\")\n",
        "file.close()"
      ]
    },
    {
      "cell_type": "markdown",
      "source": [
        "###Q2. Why close() function is used? \n",
        "* The close() function is used to close an open file in a computer program. When a file is opened, it is important to close it properly to release the system resources that were allocated to that file during its use.\n",
        "### Why is it important to close a file?\n",
        "* Saving changes: When a file is closed, any changes made to the file are saved to disk. If a file is not closed properly, the changes may not be saved, leading to data loss or corruption.\n",
        "\n",
        "* Freeing up system resources: Opening a file requires system resources such as memory and file handles. If a file is not closed properly, these resources may not be released, which can lead to performance issues or even system crashes.\n",
        "\n",
        "* Allowing other programs to access the file: If a file is not closed properly, other programs may not be able to access it. This can lead to errors or conflicts when multiple programs try to access the same file."
      ],
      "metadata": {
        "id": "rxzDfjNJgA-v"
      }
    },
    {
      "cell_type": "code",
      "source": [],
      "metadata": {
        "id": "8FyjSuEKfxOU"
      },
      "execution_count": null,
      "outputs": []
    },
    {
      "cell_type": "markdown",
      "source": [
        "### Q3. Write a python program to create a text file. Write ‘I want to become a Data Scientist’ in that file. Then close the file. Open this file and read the content of the file."
      ],
      "metadata": {
        "id": "YprxOSWd5JGS"
      }
    },
    {
      "cell_type": "code",
      "source": [
        "# create a text file\n",
        "with open('data_scientist.txt', 'w') as f:\n",
        "    f.write('I want to become a Data Scientist')\n",
        "    f.close()\n",
        "\n",
        "\n"
      ],
      "metadata": {
        "id": "NMzJt81f5qAs"
      },
      "execution_count": 4,
      "outputs": []
    },
    {
      "cell_type": "code",
      "source": [
        "# open the file and read its contents\n",
        "with open('data_scientist.txt', 'r') as f:\n",
        "    file_contents = f.read()\n",
        "    print(file_contents)\n",
        "    f.close()"
      ],
      "metadata": {
        "colab": {
          "base_uri": "https://localhost:8080/"
        },
        "id": "NtDEUJQA5rrn",
        "outputId": "23a0fbe8-3947-4901-fa67-3bd3b1eb55be"
      },
      "execution_count": 5,
      "outputs": [
        {
          "output_type": "stream",
          "name": "stdout",
          "text": [
            "I want to become a Data Scientist\n"
          ]
        }
      ]
    },
    {
      "cell_type": "markdown",
      "source": [
        "###Q4. Explain the following with python code: read(), readline() and readlines()."
      ],
      "metadata": {
        "id": "K2DJ5YV96EuV"
      }
    },
    {
      "cell_type": "markdown",
      "source": [
        "## read(): This function reads the entire contents of a file as a single string. It "
      ],
      "metadata": {
        "id": "YE5arpOp6Z-a"
      }
    },
    {
      "cell_type": "code",
      "source": [
        "with open('/content/sample.txt', 'r') as f:\n",
        "    contents = f.read()\n",
        "    print(contents)\n"
      ],
      "metadata": {
        "colab": {
          "base_uri": "https://localhost:8080/"
        },
        "id": "QIu6Dcgl5_U4",
        "outputId": "6410c9c4-1058-4c24-f7d8-026974de49c6"
      },
      "execution_count": 16,
      "outputs": [
        {
          "output_type": "stream",
          "name": "stdout",
          "text": [
            "Mein name ist Rushikesh Suryawanshi in german language;\n",
            "Lorem ipsum dolor sit amet, consectetur adipiscing elit. Quibus natura iure responderit non esse verum aliunde finem beate vivendi, a se principia rei gerendae peti; Quae enim adhuc protulisti, popularia sunt, ego autem a te elegantiora desidero. Duo Reges: constructio interrete. Tum Lucius: Mihi vero ista valde probata sunt, quod item fratri puto. Bestiarum vero nullum iudicium puto. Nihil enim iam habes, quod ad corpus referas; Deinde prima illa, quae in congressu solemus: Quid tu, inquit, huc? Et homini, qui ceteris animantibus plurimum praestat, praecipue a natura nihil datum esse dicemus?\n",
            "\n",
            "Iam id ipsum absurdum, maximum malum neglegi. Quod ea non occurrentia fingunt, vincunt Aristonem; Atqui perspicuum est hominem e corpore animoque constare, cum primae sint animi partes, secundae corporis. Fieri, inquam, Triari, nullo pacto potest, ut non dicas, quid non probes eius, a quo dissentias. Equidem e Cn. An dubium est, quin virtus ita maximam partem optineat in rebus humanis, ut reliquas obruat?\n",
            "\n",
            "Quis istum dolorem timet?\n",
            "Summus dolor plures dies manere non potest? Dicet pro me ipsa virtus nec dubitabit isti vestro beato M. Tubulum fuisse, qua illum, cuius is condemnatus est rogatione, P. Quod si ita sit, cur opera philosophiae sit danda nescio.\n",
            "\n",
            "Ex eorum enim scriptis et institutis cum omnis doctrina liberalis, omnis historia.\n",
            "Quod si ita est, sequitur id ipsum, quod te velle video, omnes semper beatos esse sapientes. Cum enim fertur quasi torrens oratio, quamvis multa cuiusque modi rapiat, nihil tamen teneas, nihil apprehendas, nusquam orationem rapidam coerceas. Ita redarguitur ipse a sese, convincunturque scripta eius probitate ipsius ac moribus. At quanta conantur! Mundum hunc omnem oppidum esse nostrum! Incendi igitur eos, qui audiunt, vides. Vide, ne magis, inquam, tuum fuerit, cum re idem tibi, quod mihi, videretur, non nova te rebus nomina inponere. Qui-vere falsone, quaerere mittimus-dicitur oculis se privasse; Si ista mala sunt, in quae potest incidere sapiens, sapientem esse non esse ad beate vivendum satis. At vero si ad vitem sensus accesserit, ut appetitum quendam habeat et per se ipsa moveatur, quid facturam putas?\n",
            "\n",
            "Quem si tenueris, non modo meum Ciceronem, sed etiam me ipsum abducas licebit.\n",
            "Stulti autem malorum memoria torquentur, sapientes bona praeterita grata recordatione renovata delectant.\n",
            "Esse enim quam vellet iniquus iustus poterat inpune.\n",
            "Quae autem natura suae primae institutionis oblita est?\n",
            "Verum tamen cum de rebus grandioribus dicas, ipsae res verba rapiunt;\n",
            "Hoc est non modo cor non habere, sed ne palatum quidem.\n",
            "Voluptatem cum summum bonum diceret, primum in eo ipso parum vidit, deinde hoc quoque alienum; Sed tu istuc dixti bene Latine, parum plane. Nam haec ipsa mihi erunt in promptu, quae modo audivi, nec ante aggrediar, quam te ab istis, quos dicis, instructum videro. Fatebuntur Stoici haec omnia dicta esse praeclare, neque eam causam Zenoni desciscendi fuisse. Non autem hoc: igitur ne illud quidem. Ratio quidem vestra sic cogit. Cum audissem Antiochum, Brute, ut solebam, cum M. An quod ita callida est, ut optime possit architectari voluptates?\n",
            "\n",
            "Idemne, quod iucunde?\n",
            "Haec mihi videtur delicatior, ut ita dicam, molliorque ratio, quam virtutis vis gravitasque postulat. Sed quoniam et advesperascit et mihi ad villam revertendum est, nunc quidem hactenus; Cuius ad naturam apta ratio vera illa et summa lex a philosophis dicitur. Neque solum ea communia, verum etiam paria esse dixerunt. Sed nunc, quod agimus; A mene tu?\n"
          ]
        }
      ]
    },
    {
      "cell_type": "markdown",
      "source": [
        "##readline(): This function reads a single line from a file."
      ],
      "metadata": {
        "id": "BF0EIdIX6q78"
      }
    },
    {
      "cell_type": "code",
      "source": [
        "with open('/content/sample.txt', 'r') as f:\n",
        "    line = f.readline()\n",
        "    print(line)\n"
      ],
      "metadata": {
        "colab": {
          "base_uri": "https://localhost:8080/"
        },
        "id": "mIuocz7H6jtj",
        "outputId": "3c4a1b8f-3a92-4521-827d-691305f65298"
      },
      "execution_count": 9,
      "outputs": [
        {
          "output_type": "stream",
          "name": "stdout",
          "text": [
            "Mein name ist Rushikesh Suryawanshi in german language;\n",
            "\n"
          ]
        }
      ]
    },
    {
      "cell_type": "markdown",
      "source": [
        "### readlines(): This function reads all the lines of a file and returns them as a list of strings."
      ],
      "metadata": {
        "id": "TOuThoeF74NH"
      }
    },
    {
      "cell_type": "code",
      "source": [
        "with open('/content/sample.txt', 'r') as f:\n",
        "    lines = f.readlines()\n",
        "    print(lines)\n"
      ],
      "metadata": {
        "colab": {
          "base_uri": "https://localhost:8080/"
        },
        "id": "pwZhm3p57lJB",
        "outputId": "7c6a1b52-3ef5-4cfa-cefb-3eb8835b9151"
      },
      "execution_count": 11,
      "outputs": [
        {
          "output_type": "stream",
          "name": "stdout",
          "text": [
            "['Mein name ist Rushikesh Suryawanshi in german language;\\n', 'Lorem ipsum dolor sit amet, consectetur adipiscing elit. Quibus natura iure responderit non esse verum aliunde finem beate vivendi, a se principia rei gerendae peti; Quae enim adhuc protulisti, popularia sunt, ego autem a te elegantiora desidero. Duo Reges: constructio interrete. Tum Lucius: Mihi vero ista valde probata sunt, quod item fratri puto. Bestiarum vero nullum iudicium puto. Nihil enim iam habes, quod ad corpus referas; Deinde prima illa, quae in congressu solemus: Quid tu, inquit, huc? Et homini, qui ceteris animantibus plurimum praestat, praecipue a natura nihil datum esse dicemus?\\n', '\\n', 'Iam id ipsum absurdum, maximum malum neglegi. Quod ea non occurrentia fingunt, vincunt Aristonem; Atqui perspicuum est hominem e corpore animoque constare, cum primae sint animi partes, secundae corporis. Fieri, inquam, Triari, nullo pacto potest, ut non dicas, quid non probes eius, a quo dissentias. Equidem e Cn. An dubium est, quin virtus ita maximam partem optineat in rebus humanis, ut reliquas obruat?\\n', '\\n', 'Quis istum dolorem timet?\\n', 'Summus dolor plures dies manere non potest? Dicet pro me ipsa virtus nec dubitabit isti vestro beato M. Tubulum fuisse, qua illum, cuius is condemnatus est rogatione, P. Quod si ita sit, cur opera philosophiae sit danda nescio.\\n', '\\n', 'Ex eorum enim scriptis et institutis cum omnis doctrina liberalis, omnis historia.\\n', 'Quod si ita est, sequitur id ipsum, quod te velle video, omnes semper beatos esse sapientes. Cum enim fertur quasi torrens oratio, quamvis multa cuiusque modi rapiat, nihil tamen teneas, nihil apprehendas, nusquam orationem rapidam coerceas. Ita redarguitur ipse a sese, convincunturque scripta eius probitate ipsius ac moribus. At quanta conantur! Mundum hunc omnem oppidum esse nostrum! Incendi igitur eos, qui audiunt, vides. Vide, ne magis, inquam, tuum fuerit, cum re idem tibi, quod mihi, videretur, non nova te rebus nomina inponere. Qui-vere falsone, quaerere mittimus-dicitur oculis se privasse; Si ista mala sunt, in quae potest incidere sapiens, sapientem esse non esse ad beate vivendum satis. At vero si ad vitem sensus accesserit, ut appetitum quendam habeat et per se ipsa moveatur, quid facturam putas?\\n', '\\n', 'Quem si tenueris, non modo meum Ciceronem, sed etiam me ipsum abducas licebit.\\n', 'Stulti autem malorum memoria torquentur, sapientes bona praeterita grata recordatione renovata delectant.\\n', 'Esse enim quam vellet iniquus iustus poterat inpune.\\n', 'Quae autem natura suae primae institutionis oblita est?\\n', 'Verum tamen cum de rebus grandioribus dicas, ipsae res verba rapiunt;\\n', 'Hoc est non modo cor non habere, sed ne palatum quidem.\\n', 'Voluptatem cum summum bonum diceret, primum in eo ipso parum vidit, deinde hoc quoque alienum; Sed tu istuc dixti bene Latine, parum plane. Nam haec ipsa mihi erunt in promptu, quae modo audivi, nec ante aggrediar, quam te ab istis, quos dicis, instructum videro. Fatebuntur Stoici haec omnia dicta esse praeclare, neque eam causam Zenoni desciscendi fuisse. Non autem hoc: igitur ne illud quidem. Ratio quidem vestra sic cogit. Cum audissem Antiochum, Brute, ut solebam, cum M. An quod ita callida est, ut optime possit architectari voluptates?\\n', '\\n', 'Idemne, quod iucunde?\\n', 'Haec mihi videtur delicatior, ut ita dicam, molliorque ratio, quam virtutis vis gravitasque postulat. Sed quoniam et advesperascit et mihi ad villam revertendum est, nunc quidem hactenus; Cuius ad naturam apta ratio vera illa et summa lex a philosophis dicitur. Neque solum ea communia, verum etiam paria esse dixerunt. Sed nunc, quod agimus; A mene tu?']\n"
          ]
        }
      ]
    },
    {
      "cell_type": "markdown",
      "source": [
        "###Q5. Explain why with statement is used with open(). \n",
        "\n",
        "* In Python, the with statement is used with open() to open a file in a way that ensures it is properly closed after use. \n",
        "* The with statement creates a context in which the file is opened, and when the context is exited (either normally or by an exception), the file is automatically closed. This means that you don't have to worry about explicitly closing the file using the close() method\n",
        "\n",
        "###What is the advantage of using with statement and open() together?\n",
        " \n",
        "* The advantage of using the with statement with open() is that it ensures that the file is properly closed, even if an error occurs while the file is being processed. If an error occurs within the with block, the file will still be closed when the block is exited, which prevents data corruption and other issues that can occur when files are not properly closed.\n",
        "\n",
        "####Here's an example of how to use the with statement with open():\n",
        "\n",
        "\n"
      ],
      "metadata": {
        "id": "eESyj8vr8JT_"
      }
    },
    {
      "cell_type": "code",
      "source": [
        "with open('/content/data_scientist.txt', 'r') as f:\n",
        "    # do something with the file\n",
        "    contents = f.read()\n",
        "    print(contents)\n",
        "# file is automatically closed when the 'with' block is exited\n"
      ],
      "metadata": {
        "colab": {
          "base_uri": "https://localhost:8080/"
        },
        "id": "9Vth4yre7-J0",
        "outputId": "d3b3533b-8eaf-4f3e-fb7d-b62468ad8a54"
      },
      "execution_count": 12,
      "outputs": [
        {
          "output_type": "stream",
          "name": "stdout",
          "text": [
            "I want to become a Data Scientist\n"
          ]
        }
      ]
    },
    {
      "cell_type": "markdown",
      "source": [
        "###Q6. Explain the write() and writelines() functions. Give a suitable example.\n",
        "\n",
        "* In Python, the write() and writelines() functions are used to write data to a file. \n",
        "\n",
        "* write(): This function is used to write a single string to a file. It takes a string as an argument and writes it to the file. If the file already exists, it will be overwritten. If it doesn't exist, a new file will be created. "
      ],
      "metadata": {
        "id": "V7t92T5m9WFI"
      }
    },
    {
      "cell_type": "code",
      "source": [
        "##Here's an example of write():\n",
        "\n",
        "with open('write.txt', 'w') as f:\n",
        "    f.write('Winner Winner Chicken Dinner !')\n"
      ],
      "metadata": {
        "id": "lH7whAaJ9XTI"
      },
      "execution_count": 14,
      "outputs": []
    },
    {
      "cell_type": "markdown",
      "source": [
        "* writelines(): This function is used to write a list of strings to a file. Each string in the list is written to the file as a separate line. "
      ],
      "metadata": {
        "id": "U9rR2GxD_Yfc"
      }
    },
    {
      "cell_type": "code",
      "source": [
        "#Here's an example of writelines():\n",
        "\n",
        "with open('writelines.txt', 'w') as f:\n",
        "    lines = ['Winner\\n', 'Winner\\n', 'Chicken\\n','Dinner\\n']\n",
        "    f.writelines(lines)\n"
      ],
      "metadata": {
        "id": "xym26dpB-wjl"
      },
      "execution_count": 15,
      "outputs": []
    },
    {
      "cell_type": "code",
      "source": [],
      "metadata": {
        "id": "5UMdCYeM_oIX"
      },
      "execution_count": null,
      "outputs": []
    }
  ]
}